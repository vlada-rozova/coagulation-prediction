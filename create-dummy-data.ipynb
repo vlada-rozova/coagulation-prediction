{
 "cells": [
  {
   "cell_type": "code",
   "execution_count": 1,
   "id": "36f351fe",
   "metadata": {},
   "outputs": [],
   "source": [
    "import numpy as np\n",
    "import pandas as pd\n",
    "import random"
   ]
  },
  {
   "cell_type": "markdown",
   "id": "1fb85e89",
   "metadata": {},
   "source": [
    "# Create dummy data"
   ]
  },
  {
   "cell_type": "markdown",
   "id": "54157aa3",
   "metadata": {},
   "source": [
    "### Lab results"
   ]
  },
  {
   "cell_type": "code",
   "execution_count": 2,
   "id": "9113752f",
   "metadata": {},
   "outputs": [
    {
     "data": {
      "text/html": [
       "<div>\n",
       "<style scoped>\n",
       "    .dataframe tbody tr th:only-of-type {\n",
       "        vertical-align: middle;\n",
       "    }\n",
       "\n",
       "    .dataframe tbody tr th {\n",
       "        vertical-align: top;\n",
       "    }\n",
       "\n",
       "    .dataframe thead th {\n",
       "        text-align: right;\n",
       "    }\n",
       "</style>\n",
       "<table border=\"1\" class=\"dataframe\">\n",
       "  <thead>\n",
       "    <tr style=\"text-align: right;\">\n",
       "      <th></th>\n",
       "      <th>stay_id</th>\n",
       "      <th>value</th>\n",
       "      <th>itemid</th>\n",
       "      <th>charttime</th>\n",
       "    </tr>\n",
       "  </thead>\n",
       "  <tbody>\n",
       "  </tbody>\n",
       "</table>\n",
       "</div>"
      ],
      "text/plain": [
       "Empty DataFrame\n",
       "Columns: [stay_id, value, itemid, charttime]\n",
       "Index: []"
      ]
     },
     "execution_count": 2,
     "metadata": {},
     "output_type": "execute_result"
    }
   ],
   "source": [
    "results = pd.DataFrame(columns=['stay_id', 'value', 'itemid', 'charttime'])\n",
    "results"
   ]
  },
  {
   "cell_type": "code",
   "execution_count": 3,
   "id": "7d53a83e",
   "metadata": {},
   "outputs": [],
   "source": [
    "# Choose unique IDs 500 times with replacement\n",
    "results.stay_id = random.choices(range(100, 200), k=500)\n",
    "\n",
    "# Generate random test results\n",
    "results.value = np.random.uniform(low=0.0, high=100.0, size=(500,))\n",
    "\n",
    "# Seven tests => itemid ranges from 0 to 6 \n",
    "results.itemid = random.choices(range(0,6), k=500)"
   ]
  },
  {
   "cell_type": "code",
   "execution_count": 4,
   "id": "706fdb49",
   "metadata": {},
   "outputs": [],
   "source": [
    "# Generate timestamps\n",
    "def random_dates(start, end, n):\n",
    "\n",
    "    start_u = start.value//10**9\n",
    "    end_u = end.value//10**9\n",
    "\n",
    "    return pd.to_datetime(np.random.randint(start_u, end_u, n), unit='s')\n",
    "\n",
    "start = pd.to_datetime('2015-01-05')\n",
    "end = pd.to_datetime('2015-01-10')\n",
    "results.charttime = random_dates(start, end, results.shape[0])"
   ]
  },
  {
   "cell_type": "code",
   "execution_count": 5,
   "id": "c402f81d",
   "metadata": {},
   "outputs": [
    {
     "data": {
      "text/plain": [
       "stay_id               int64\n",
       "value               float64\n",
       "itemid                int64\n",
       "charttime    datetime64[ns]\n",
       "dtype: object"
      ]
     },
     "execution_count": 5,
     "metadata": {},
     "output_type": "execute_result"
    }
   ],
   "source": [
    "results.dtypes"
   ]
  },
  {
   "cell_type": "code",
   "execution_count": 6,
   "id": "c9c2164f",
   "metadata": {},
   "outputs": [
    {
     "name": "stdout",
     "output_type": "stream",
     "text": [
      "(500, 4)\n"
     ]
    },
    {
     "data": {
      "text/html": [
       "<div>\n",
       "<style scoped>\n",
       "    .dataframe tbody tr th:only-of-type {\n",
       "        vertical-align: middle;\n",
       "    }\n",
       "\n",
       "    .dataframe tbody tr th {\n",
       "        vertical-align: top;\n",
       "    }\n",
       "\n",
       "    .dataframe thead th {\n",
       "        text-align: right;\n",
       "    }\n",
       "</style>\n",
       "<table border=\"1\" class=\"dataframe\">\n",
       "  <thead>\n",
       "    <tr style=\"text-align: right;\">\n",
       "      <th></th>\n",
       "      <th>stay_id</th>\n",
       "      <th>value</th>\n",
       "      <th>itemid</th>\n",
       "      <th>charttime</th>\n",
       "    </tr>\n",
       "  </thead>\n",
       "  <tbody>\n",
       "    <tr>\n",
       "      <th>0</th>\n",
       "      <td>172</td>\n",
       "      <td>16.743031</td>\n",
       "      <td>5</td>\n",
       "      <td>2015-01-07 09:48:54</td>\n",
       "    </tr>\n",
       "    <tr>\n",
       "      <th>1</th>\n",
       "      <td>139</td>\n",
       "      <td>89.922258</td>\n",
       "      <td>0</td>\n",
       "      <td>2015-01-05 12:58:20</td>\n",
       "    </tr>\n",
       "    <tr>\n",
       "      <th>2</th>\n",
       "      <td>119</td>\n",
       "      <td>59.566609</td>\n",
       "      <td>5</td>\n",
       "      <td>2015-01-09 10:32:51</td>\n",
       "    </tr>\n",
       "    <tr>\n",
       "      <th>3</th>\n",
       "      <td>115</td>\n",
       "      <td>50.516263</td>\n",
       "      <td>3</td>\n",
       "      <td>2015-01-07 10:32:02</td>\n",
       "    </tr>\n",
       "    <tr>\n",
       "      <th>4</th>\n",
       "      <td>188</td>\n",
       "      <td>87.035530</td>\n",
       "      <td>0</td>\n",
       "      <td>2015-01-06 09:38:23</td>\n",
       "    </tr>\n",
       "  </tbody>\n",
       "</table>\n",
       "</div>"
      ],
      "text/plain": [
       "   stay_id      value  itemid           charttime\n",
       "0      172  16.743031       5 2015-01-07 09:48:54\n",
       "1      139  89.922258       0 2015-01-05 12:58:20\n",
       "2      119  59.566609       5 2015-01-09 10:32:51\n",
       "3      115  50.516263       3 2015-01-07 10:32:02\n",
       "4      188  87.035530       0 2015-01-06 09:38:23"
      ]
     },
     "execution_count": 6,
     "metadata": {},
     "output_type": "execute_result"
    }
   ],
   "source": [
    "print(results.shape)\n",
    "results.head()"
   ]
  },
  {
   "cell_type": "markdown",
   "id": "3760d311",
   "metadata": {},
   "source": [
    "### Admission time and static vars"
   ]
  },
  {
   "cell_type": "code",
   "execution_count": 7,
   "id": "5c7cbe66",
   "metadata": {},
   "outputs": [
    {
     "data": {
      "text/html": [
       "<div>\n",
       "<style scoped>\n",
       "    .dataframe tbody tr th:only-of-type {\n",
       "        vertical-align: middle;\n",
       "    }\n",
       "\n",
       "    .dataframe tbody tr th {\n",
       "        vertical-align: top;\n",
       "    }\n",
       "\n",
       "    .dataframe thead th {\n",
       "        text-align: right;\n",
       "    }\n",
       "</style>\n",
       "<table border=\"1\" class=\"dataframe\">\n",
       "  <thead>\n",
       "    <tr style=\"text-align: right;\">\n",
       "      <th></th>\n",
       "      <th>stay_id</th>\n",
       "      <th>intime</th>\n",
       "      <th>age</th>\n",
       "      <th>sex</th>\n",
       "    </tr>\n",
       "  </thead>\n",
       "  <tbody>\n",
       "  </tbody>\n",
       "</table>\n",
       "</div>"
      ],
      "text/plain": [
       "Empty DataFrame\n",
       "Columns: [stay_id, intime, age, sex]\n",
       "Index: []"
      ]
     },
     "execution_count": 7,
     "metadata": {},
     "output_type": "execute_result"
    }
   ],
   "source": [
    "adm = pd.DataFrame(columns=['stay_id', 'intime', 'age', 'sex'])\n",
    "adm"
   ]
  },
  {
   "cell_type": "code",
   "execution_count": 8,
   "id": "842bf07f",
   "metadata": {},
   "outputs": [],
   "source": [
    "# Copy unique stay IDs\n",
    "adm.stay_id = results.stay_id.unique()\n",
    "\n",
    "# Genarate timestamps\n",
    "start = pd.to_datetime('2015-01-01')\n",
    "end = pd.to_datetime('2015-01-05')\n",
    "adm.intime = random_dates(start, end, adm.shape[0])\n",
    "\n",
    "# Populate the age column\n",
    "adm.age = random.choices(range(18, 90), k=adm.shape[0])\n",
    "\n",
    "# Populate the sex column\n",
    "adm.sex = random.choices(['F', 'M'], k=adm.shape[0])"
   ]
  },
  {
   "cell_type": "code",
   "execution_count": 9,
   "id": "013e516b",
   "metadata": {},
   "outputs": [
    {
     "name": "stdout",
     "output_type": "stream",
     "text": [
      "(100, 4)\n"
     ]
    },
    {
     "data": {
      "text/html": [
       "<div>\n",
       "<style scoped>\n",
       "    .dataframe tbody tr th:only-of-type {\n",
       "        vertical-align: middle;\n",
       "    }\n",
       "\n",
       "    .dataframe tbody tr th {\n",
       "        vertical-align: top;\n",
       "    }\n",
       "\n",
       "    .dataframe thead th {\n",
       "        text-align: right;\n",
       "    }\n",
       "</style>\n",
       "<table border=\"1\" class=\"dataframe\">\n",
       "  <thead>\n",
       "    <tr style=\"text-align: right;\">\n",
       "      <th></th>\n",
       "      <th>stay_id</th>\n",
       "      <th>intime</th>\n",
       "      <th>age</th>\n",
       "      <th>sex</th>\n",
       "    </tr>\n",
       "  </thead>\n",
       "  <tbody>\n",
       "    <tr>\n",
       "      <th>0</th>\n",
       "      <td>172</td>\n",
       "      <td>2015-01-02 18:40:17</td>\n",
       "      <td>68</td>\n",
       "      <td>M</td>\n",
       "    </tr>\n",
       "    <tr>\n",
       "      <th>1</th>\n",
       "      <td>139</td>\n",
       "      <td>2015-01-02 21:41:57</td>\n",
       "      <td>69</td>\n",
       "      <td>M</td>\n",
       "    </tr>\n",
       "    <tr>\n",
       "      <th>2</th>\n",
       "      <td>119</td>\n",
       "      <td>2015-01-03 09:39:59</td>\n",
       "      <td>86</td>\n",
       "      <td>F</td>\n",
       "    </tr>\n",
       "    <tr>\n",
       "      <th>3</th>\n",
       "      <td>115</td>\n",
       "      <td>2015-01-01 12:16:03</td>\n",
       "      <td>70</td>\n",
       "      <td>F</td>\n",
       "    </tr>\n",
       "    <tr>\n",
       "      <th>4</th>\n",
       "      <td>188</td>\n",
       "      <td>2015-01-01 02:10:06</td>\n",
       "      <td>55</td>\n",
       "      <td>F</td>\n",
       "    </tr>\n",
       "  </tbody>\n",
       "</table>\n",
       "</div>"
      ],
      "text/plain": [
       "   stay_id              intime  age sex\n",
       "0      172 2015-01-02 18:40:17   68   M\n",
       "1      139 2015-01-02 21:41:57   69   M\n",
       "2      119 2015-01-03 09:39:59   86   F\n",
       "3      115 2015-01-01 12:16:03   70   F\n",
       "4      188 2015-01-01 02:10:06   55   F"
      ]
     },
     "execution_count": 9,
     "metadata": {},
     "output_type": "execute_result"
    }
   ],
   "source": [
    "print(adm.shape)\n",
    "adm.head()"
   ]
  },
  {
   "cell_type": "markdown",
   "id": "e81d8c6a",
   "metadata": {},
   "source": [
    "### Summary stats"
   ]
  },
  {
   "cell_type": "code",
   "execution_count": 10,
   "id": "57c18dfc",
   "metadata": {},
   "outputs": [
    {
     "data": {
      "text/plain": [
       "100"
      ]
     },
     "execution_count": 10,
     "metadata": {},
     "output_type": "execute_result"
    }
   ],
   "source": [
    "results.stay_id.nunique()"
   ]
  },
  {
   "cell_type": "code",
   "execution_count": 11,
   "id": "28ba750e",
   "metadata": {},
   "outputs": [
    {
     "data": {
      "text/plain": [
       "itemid\n",
       "0    83\n",
       "1    79\n",
       "2    82\n",
       "3    77\n",
       "4    82\n",
       "5    97\n",
       "dtype: int64"
      ]
     },
     "execution_count": 11,
     "metadata": {},
     "output_type": "execute_result"
    }
   ],
   "source": [
    "results.groupby('itemid').size()"
   ]
  },
  {
   "cell_type": "code",
   "execution_count": 12,
   "id": "1371be2b",
   "metadata": {},
   "outputs": [
    {
     "data": {
      "text/plain": [
       "stay_id\n",
       "100     6\n",
       "101     6\n",
       "102     5\n",
       "103     8\n",
       "104     3\n",
       "       ..\n",
       "195     1\n",
       "196     9\n",
       "197     2\n",
       "198     3\n",
       "199    10\n",
       "Length: 100, dtype: int64"
      ]
     },
     "execution_count": 12,
     "metadata": {},
     "output_type": "execute_result"
    }
   ],
   "source": [
    "results.groupby('stay_id').size()"
   ]
  },
  {
   "cell_type": "code",
   "execution_count": 13,
   "id": "65752af9",
   "metadata": {},
   "outputs": [
    {
     "data": {
      "text/plain": [
       "stay_id\n",
       "100    3\n",
       "101    4\n",
       "102    4\n",
       "103    5\n",
       "104    2\n",
       "      ..\n",
       "195    1\n",
       "196    5\n",
       "197    2\n",
       "198    2\n",
       "199    5\n",
       "Name: itemid, Length: 100, dtype: int64"
      ]
     },
     "execution_count": 13,
     "metadata": {},
     "output_type": "execute_result"
    }
   ],
   "source": [
    "results.groupby('stay_id').itemid.nunique()"
   ]
  },
  {
   "cell_type": "code",
   "execution_count": 14,
   "id": "3fe8b682",
   "metadata": {},
   "outputs": [
    {
     "data": {
      "text/plain": [
       "76"
      ]
     },
     "execution_count": 14,
     "metadata": {},
     "output_type": "execute_result"
    }
   ],
   "source": [
    "assert (results.groupby('stay_id').size() >= results.groupby('stay_id').itemid.nunique()).all()\n",
    "(results.groupby('stay_id').size() > results.groupby('stay_id').itemid.nunique()).sum()"
   ]
  },
  {
   "cell_type": "markdown",
   "id": "91100f17",
   "metadata": {},
   "source": [
    "### Merge dataframes"
   ]
  },
  {
   "cell_type": "code",
   "execution_count": 15,
   "id": "36090591",
   "metadata": {},
   "outputs": [],
   "source": [
    "final_df = results.merge(adm)"
   ]
  },
  {
   "cell_type": "markdown",
   "id": "801ec593",
   "metadata": {},
   "source": [
    "### Save data"
   ]
  },
  {
   "cell_type": "code",
   "execution_count": 16,
   "id": "93ca619a",
   "metadata": {},
   "outputs": [],
   "source": [
    "results.to_csv('../data/dummy_results.csv', index=False)\n",
    "adm.to_csv('../data/dummy_admissions.csv', index=False)\n",
    "final_df.to_csv('../data/dummy_data_combined.csv', index=False)"
   ]
  },
  {
   "cell_type": "code",
   "execution_count": null,
   "id": "d60fd6e8",
   "metadata": {},
   "outputs": [],
   "source": []
  }
 ],
 "metadata": {
  "kernelspec": {
   "display_name": "Python 3 (ipykernel)",
   "language": "python",
   "name": "python3"
  },
  "language_info": {
   "codemirror_mode": {
    "name": "ipython",
    "version": 3
   },
   "file_extension": ".py",
   "mimetype": "text/x-python",
   "name": "python",
   "nbconvert_exporter": "python",
   "pygments_lexer": "ipython3",
   "version": "3.8.10"
  }
 },
 "nbformat": 4,
 "nbformat_minor": 5
}
