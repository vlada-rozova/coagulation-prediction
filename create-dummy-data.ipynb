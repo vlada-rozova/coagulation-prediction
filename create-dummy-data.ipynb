{
 "cells": [
  {
   "cell_type": "code",
   "execution_count": 1,
   "id": "36f351fe",
   "metadata": {},
   "outputs": [],
   "source": [
    "import numpy as np\n",
    "import pandas as pd\n",
    "import random"
   ]
  },
  {
   "cell_type": "markdown",
   "id": "1fb85e89",
   "metadata": {},
   "source": [
    "# Create dummy data"
   ]
  },
  {
   "cell_type": "markdown",
   "id": "54157aa3",
   "metadata": {},
   "source": [
    "### Lab results"
   ]
  },
  {
   "cell_type": "code",
   "execution_count": 2,
   "id": "9113752f",
   "metadata": {},
   "outputs": [
    {
     "data": {
      "text/html": [
       "<div>\n",
       "<style scoped>\n",
       "    .dataframe tbody tr th:only-of-type {\n",
       "        vertical-align: middle;\n",
       "    }\n",
       "\n",
       "    .dataframe tbody tr th {\n",
       "        vertical-align: top;\n",
       "    }\n",
       "\n",
       "    .dataframe thead th {\n",
       "        text-align: right;\n",
       "    }\n",
       "</style>\n",
       "<table border=\"1\" class=\"dataframe\">\n",
       "  <thead>\n",
       "    <tr style=\"text-align: right;\">\n",
       "      <th></th>\n",
       "      <th>stay_id</th>\n",
       "      <th>value</th>\n",
       "      <th>itemid</th>\n",
       "      <th>charttime</th>\n",
       "    </tr>\n",
       "  </thead>\n",
       "  <tbody>\n",
       "  </tbody>\n",
       "</table>\n",
       "</div>"
      ],
      "text/plain": [
       "Empty DataFrame\n",
       "Columns: [stay_id, value, itemid, charttime]\n",
       "Index: []"
      ]
     },
     "execution_count": 2,
     "metadata": {},
     "output_type": "execute_result"
    }
   ],
   "source": [
    "results = pd.DataFrame(columns=['stay_id', 'value', 'itemid', 'charttime'])\n",
    "results"
   ]
  },
  {
   "cell_type": "code",
   "execution_count": 3,
   "id": "7d53a83e",
   "metadata": {},
   "outputs": [],
   "source": [
    "results.stay_id = random.choices(range(100, 200), k=500)\n",
    "results.value = np.random.uniform(low=0.0, high=100.0, size=(500,))\n",
    "\n",
    "# Seven tests => itemid ranges from 0 to 6 \n",
    "results.itemid = random.choices(range(0,6), k=500)"
   ]
  },
  {
   "cell_type": "code",
   "execution_count": 4,
   "id": "706fdb49",
   "metadata": {},
   "outputs": [],
   "source": [
    "# Generate timestamps\n",
    "def random_dates(start, end, n):\n",
    "\n",
    "    start_u = start.value//10**9\n",
    "    end_u = end.value//10**9\n",
    "\n",
    "    return pd.to_datetime(np.random.randint(start_u, end_u, n), unit='s')\n",
    "\n",
    "start = pd.to_datetime('2015-01-01')\n",
    "end = pd.to_datetime('2018-01-01')\n",
    "results.charttime = random_dates(start, end, results.shape[0])"
   ]
  },
  {
   "cell_type": "code",
   "execution_count": 5,
   "id": "c402f81d",
   "metadata": {},
   "outputs": [
    {
     "data": {
      "text/plain": [
       "stay_id               int64\n",
       "value               float64\n",
       "itemid                int64\n",
       "charttime    datetime64[ns]\n",
       "dtype: object"
      ]
     },
     "execution_count": 5,
     "metadata": {},
     "output_type": "execute_result"
    }
   ],
   "source": [
    "results.dtypes"
   ]
  },
  {
   "cell_type": "code",
   "execution_count": 6,
   "id": "c9c2164f",
   "metadata": {},
   "outputs": [
    {
     "data": {
      "text/html": [
       "<div>\n",
       "<style scoped>\n",
       "    .dataframe tbody tr th:only-of-type {\n",
       "        vertical-align: middle;\n",
       "    }\n",
       "\n",
       "    .dataframe tbody tr th {\n",
       "        vertical-align: top;\n",
       "    }\n",
       "\n",
       "    .dataframe thead th {\n",
       "        text-align: right;\n",
       "    }\n",
       "</style>\n",
       "<table border=\"1\" class=\"dataframe\">\n",
       "  <thead>\n",
       "    <tr style=\"text-align: right;\">\n",
       "      <th></th>\n",
       "      <th>stay_id</th>\n",
       "      <th>value</th>\n",
       "      <th>itemid</th>\n",
       "      <th>charttime</th>\n",
       "    </tr>\n",
       "  </thead>\n",
       "  <tbody>\n",
       "    <tr>\n",
       "      <th>0</th>\n",
       "      <td>155</td>\n",
       "      <td>69.394981</td>\n",
       "      <td>2</td>\n",
       "      <td>2015-07-27 01:05:22</td>\n",
       "    </tr>\n",
       "    <tr>\n",
       "      <th>1</th>\n",
       "      <td>187</td>\n",
       "      <td>35.076911</td>\n",
       "      <td>4</td>\n",
       "      <td>2017-04-25 23:06:27</td>\n",
       "    </tr>\n",
       "    <tr>\n",
       "      <th>2</th>\n",
       "      <td>168</td>\n",
       "      <td>88.338128</td>\n",
       "      <td>4</td>\n",
       "      <td>2017-04-07 00:43:58</td>\n",
       "    </tr>\n",
       "    <tr>\n",
       "      <th>3</th>\n",
       "      <td>151</td>\n",
       "      <td>34.331397</td>\n",
       "      <td>4</td>\n",
       "      <td>2017-08-11 10:57:36</td>\n",
       "    </tr>\n",
       "    <tr>\n",
       "      <th>4</th>\n",
       "      <td>125</td>\n",
       "      <td>34.096140</td>\n",
       "      <td>4</td>\n",
       "      <td>2017-06-08 05:43:35</td>\n",
       "    </tr>\n",
       "  </tbody>\n",
       "</table>\n",
       "</div>"
      ],
      "text/plain": [
       "   stay_id      value  itemid           charttime\n",
       "0      155  69.394981       2 2015-07-27 01:05:22\n",
       "1      187  35.076911       4 2017-04-25 23:06:27\n",
       "2      168  88.338128       4 2017-04-07 00:43:58\n",
       "3      151  34.331397       4 2017-08-11 10:57:36\n",
       "4      125  34.096140       4 2017-06-08 05:43:35"
      ]
     },
     "execution_count": 6,
     "metadata": {},
     "output_type": "execute_result"
    }
   ],
   "source": [
    "results.head()"
   ]
  },
  {
   "cell_type": "markdown",
   "id": "3760d311",
   "metadata": {},
   "source": [
    "### Admission time"
   ]
  },
  {
   "cell_type": "code",
   "execution_count": 7,
   "id": "5c7cbe66",
   "metadata": {},
   "outputs": [],
   "source": [
    "adm = pd.DataFrame(columns=['stay_id', 'intime'])\n",
    "adm.stay_id = results.stay_id.copy()"
   ]
  },
  {
   "cell_type": "code",
   "execution_count": 8,
   "id": "a785174c",
   "metadata": {},
   "outputs": [],
   "source": [
    "start = pd.to_datetime('2015-01-01')\n",
    "end = pd.to_datetime('2017-12-31')\n",
    "\n",
    "adm.intime = random_dates(start, end, adm.shape[0])"
   ]
  },
  {
   "cell_type": "code",
   "execution_count": 9,
   "id": "013e516b",
   "metadata": {},
   "outputs": [
    {
     "data": {
      "text/html": [
       "<div>\n",
       "<style scoped>\n",
       "    .dataframe tbody tr th:only-of-type {\n",
       "        vertical-align: middle;\n",
       "    }\n",
       "\n",
       "    .dataframe tbody tr th {\n",
       "        vertical-align: top;\n",
       "    }\n",
       "\n",
       "    .dataframe thead th {\n",
       "        text-align: right;\n",
       "    }\n",
       "</style>\n",
       "<table border=\"1\" class=\"dataframe\">\n",
       "  <thead>\n",
       "    <tr style=\"text-align: right;\">\n",
       "      <th></th>\n",
       "      <th>stay_id</th>\n",
       "      <th>intime</th>\n",
       "    </tr>\n",
       "  </thead>\n",
       "  <tbody>\n",
       "    <tr>\n",
       "      <th>0</th>\n",
       "      <td>155</td>\n",
       "      <td>2015-06-14 05:11:33</td>\n",
       "    </tr>\n",
       "    <tr>\n",
       "      <th>1</th>\n",
       "      <td>187</td>\n",
       "      <td>2017-06-04 15:17:01</td>\n",
       "    </tr>\n",
       "    <tr>\n",
       "      <th>2</th>\n",
       "      <td>168</td>\n",
       "      <td>2017-12-29 05:29:57</td>\n",
       "    </tr>\n",
       "    <tr>\n",
       "      <th>3</th>\n",
       "      <td>151</td>\n",
       "      <td>2016-05-30 18:43:54</td>\n",
       "    </tr>\n",
       "    <tr>\n",
       "      <th>4</th>\n",
       "      <td>125</td>\n",
       "      <td>2016-01-11 16:41:37</td>\n",
       "    </tr>\n",
       "  </tbody>\n",
       "</table>\n",
       "</div>"
      ],
      "text/plain": [
       "   stay_id              intime\n",
       "0      155 2015-06-14 05:11:33\n",
       "1      187 2017-06-04 15:17:01\n",
       "2      168 2017-12-29 05:29:57\n",
       "3      151 2016-05-30 18:43:54\n",
       "4      125 2016-01-11 16:41:37"
      ]
     },
     "execution_count": 9,
     "metadata": {},
     "output_type": "execute_result"
    }
   ],
   "source": [
    "adm.head()"
   ]
  },
  {
   "cell_type": "markdown",
   "id": "e81d8c6a",
   "metadata": {},
   "source": [
    "### Summary stats"
   ]
  },
  {
   "cell_type": "code",
   "execution_count": 10,
   "id": "57c18dfc",
   "metadata": {},
   "outputs": [
    {
     "data": {
      "text/plain": [
       "100"
      ]
     },
     "execution_count": 10,
     "metadata": {},
     "output_type": "execute_result"
    }
   ],
   "source": [
    "results.stay_id.nunique()"
   ]
  },
  {
   "cell_type": "code",
   "execution_count": 11,
   "id": "28ba750e",
   "metadata": {},
   "outputs": [
    {
     "data": {
      "text/plain": [
       "itemid\n",
       "0    86\n",
       "1    91\n",
       "2    81\n",
       "3    84\n",
       "4    84\n",
       "5    74\n",
       "dtype: int64"
      ]
     },
     "execution_count": 11,
     "metadata": {},
     "output_type": "execute_result"
    }
   ],
   "source": [
    "results.groupby('itemid').size()"
   ]
  },
  {
   "cell_type": "code",
   "execution_count": 12,
   "id": "1371be2b",
   "metadata": {},
   "outputs": [
    {
     "data": {
      "text/plain": [
       "stay_id\n",
       "100    6\n",
       "101    4\n",
       "102    4\n",
       "103    6\n",
       "104    5\n",
       "      ..\n",
       "195    2\n",
       "196    6\n",
       "197    7\n",
       "198    7\n",
       "199    9\n",
       "Length: 100, dtype: int64"
      ]
     },
     "execution_count": 12,
     "metadata": {},
     "output_type": "execute_result"
    }
   ],
   "source": [
    "results.groupby('stay_id').size()"
   ]
  },
  {
   "cell_type": "code",
   "execution_count": 13,
   "id": "65752af9",
   "metadata": {},
   "outputs": [
    {
     "data": {
      "text/plain": [
       "stay_id\n",
       "100    4\n",
       "101    4\n",
       "102    4\n",
       "103    4\n",
       "104    3\n",
       "      ..\n",
       "195    2\n",
       "196    5\n",
       "197    4\n",
       "198    5\n",
       "199    4\n",
       "Name: itemid, Length: 100, dtype: int64"
      ]
     },
     "execution_count": 13,
     "metadata": {},
     "output_type": "execute_result"
    }
   ],
   "source": [
    "results.groupby('stay_id').itemid.nunique()"
   ]
  },
  {
   "cell_type": "code",
   "execution_count": 14,
   "id": "3fe8b682",
   "metadata": {},
   "outputs": [
    {
     "data": {
      "text/plain": [
       "72"
      ]
     },
     "execution_count": 14,
     "metadata": {},
     "output_type": "execute_result"
    }
   ],
   "source": [
    "assert (results.groupby('stay_id').size() >= results.groupby('stay_id').itemid.nunique()).all()\n",
    "(results.groupby('stay_id').size() > results.groupby('stay_id').itemid.nunique()).sum()"
   ]
  },
  {
   "cell_type": "markdown",
   "id": "801ec593",
   "metadata": {},
   "source": [
    "### Save data"
   ]
  },
  {
   "cell_type": "code",
   "execution_count": 15,
   "id": "93ca619a",
   "metadata": {},
   "outputs": [],
   "source": [
    "results.to_csv('../data/dummy_results.csv', index=False)\n",
    "adm.to_csv('../data/dummy_admissions.csv', index=False)"
   ]
  }
 ],
 "metadata": {
  "kernelspec": {
   "display_name": "Python 3 (ipykernel)",
   "language": "python",
   "name": "python3"
  },
  "language_info": {
   "codemirror_mode": {
    "name": "ipython",
    "version": 3
   },
   "file_extension": ".py",
   "mimetype": "text/x-python",
   "name": "python",
   "nbconvert_exporter": "python",
   "pygments_lexer": "ipython3",
   "version": "3.8.10"
  }
 },
 "nbformat": 4,
 "nbformat_minor": 5
}
