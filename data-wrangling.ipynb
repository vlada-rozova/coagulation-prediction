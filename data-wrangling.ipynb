{
 "cells": [
  {
   "cell_type": "code",
   "execution_count": 1,
   "id": "2366ff1b",
   "metadata": {},
   "outputs": [],
   "source": [
    "import numpy as np\n",
    "import pandas as pd\n",
    "\n",
    "# Pretty plots\n",
    "import matplotlib.pyplot as plt\n",
    "import seaborn as sns\n",
    "%matplotlib inline\n",
    "plt.style.use('seaborn-ticks')\n",
    "sns.set_style('ticks')\n",
    "plt.rcParams['figure.figsize'] = (6, 4)\n",
    "plt.rcParams['axes.titlesize'] = 22\n",
    "plt.rcParams['axes.labelsize'] = 20\n",
    "plt.rcParams['xtick.labelsize'] = 16\n",
    "plt.rcParams['ytick.labelsize'] = 16"
   ]
  },
  {
   "cell_type": "code",
   "execution_count": 2,
   "id": "97862787",
   "metadata": {},
   "outputs": [],
   "source": [
    "def timedelta2hours(td):\n",
    "    return td.days * 24 + td.seconds / 3600"
   ]
  },
  {
   "cell_type": "markdown",
   "id": "8ee60279",
   "metadata": {},
   "source": [
    "### Load dummy data"
   ]
  },
  {
   "cell_type": "code",
   "execution_count": 3,
   "id": "4b3864f1",
   "metadata": {},
   "outputs": [],
   "source": [
    "# # Load combined data\n",
    "# results = pd.read_csv('../data/dummy_data_combined.csv')\n",
    "# # Convert time to datetime\n",
    "# results.charttime = pd.to_datetime(results.charttime)\n",
    "# results.intime = pd.to_datetime(results.intime)\n",
    "# # Sort dataframe by stay id, item id and chart time\n",
    "# results.sort_values(by=['stay_id', 'itemid', 'charttime'], inplace=True)\n",
    "# # Reset index\n",
    "# results.reset_index(drop=True, inplace=True)\n",
    "\n",
    "# print(results.shape)\n",
    "# results.head()"
   ]
  },
  {
   "cell_type": "code",
   "execution_count": 4,
   "id": "e75356c6",
   "metadata": {},
   "outputs": [],
   "source": [
    "# # Load admission data\n",
    "# adm = pd.read_csv('../data/dummy_admissions.csv')\n",
    "# # Convert time to datetime\n",
    "# adm.intime = pd.to_datetime(adm.intime)\n",
    "# # Sort dataframe by stay id\n",
    "# adm.sort_values(by='stay_id', inplace=True)\n",
    "# # Reset index\n",
    "# adm.reset_index(drop=True, inplace=True)\n",
    "\n",
    "# print(adm.shape)\n",
    "# adm.head()"
   ]
  },
  {
   "cell_type": "markdown",
   "id": "ad1d7424",
   "metadata": {},
   "source": [
    "### Load real data"
   ]
  },
  {
   "cell_type": "code",
   "execution_count": 5,
   "id": "5cc91f9e",
   "metadata": {},
   "outputs": [
    {
     "data": {
      "text/plain": [
       "(1858203, 5)"
      ]
     },
     "execution_count": 5,
     "metadata": {},
     "output_type": "execute_result"
    }
   ],
   "source": [
    "# Load data\n",
    "df = pd.read_csv('../data/dataset_datathon_21_v2.csv')\n",
    "df.shape"
   ]
  },
  {
   "cell_type": "code",
   "execution_count": 6,
   "id": "810641ae",
   "metadata": {},
   "outputs": [],
   "source": [
    "# Covert timestamps to datetime\n",
    "df.charttime = pd.to_datetime(df.charttime)\n",
    "df.intime = pd.to_datetime(df.intime)\n",
    "\n",
    "# Exclude event later than 72h from admission\n",
    "df = df[(df.charttime - df.intime).apply(timedelta2hours) <= 72.0]"
   ]
  },
  {
   "cell_type": "code",
   "execution_count": 7,
   "id": "0af5a6f4",
   "metadata": {},
   "outputs": [
    {
     "name": "stdout",
     "output_type": "stream",
     "text": [
      "<class 'pandas.core.frame.DataFrame'>\n",
      "Int64Index: 906336 entries, 0 to 1857916\n",
      "Data columns (total 5 columns):\n",
      " #   Column       Non-Null Count   Dtype         \n",
      "---  ------       --------------   -----         \n",
      " 0   stay_id      906336 non-null  int64         \n",
      " 1   intime       906336 non-null  datetime64[ns]\n",
      " 2   charttime    906336 non-null  datetime64[ns]\n",
      " 3   event        906336 non-null  object        \n",
      " 4   event_value  906336 non-null  float64       \n",
      "dtypes: datetime64[ns](2), float64(1), int64(1), object(1)\n",
      "memory usage: 41.5+ MB\n"
     ]
    }
   ],
   "source": [
    "# Information about the dataframe\n",
    "df.info()"
   ]
  },
  {
   "cell_type": "code",
   "execution_count": 8,
   "id": "2d94bd33",
   "metadata": {},
   "outputs": [
    {
     "data": {
      "text/plain": [
       "sofa          609716\n",
       "creatinine     61010\n",
       "baseexcess     36538\n",
       "ph             36538\n",
       "ptt            30797\n",
       "pt             30280\n",
       "inr            30279\n",
       "lactate        24813\n",
       "ast            18908\n",
       "alt            18627\n",
       "albumin         8830\n",
       "Name: event, dtype: int64"
      ]
     },
     "execution_count": 8,
     "metadata": {},
     "output_type": "execute_result"
    }
   ],
   "source": [
    "# Check if any events are missing\n",
    "df.event.value_counts(dropna=False)"
   ]
  },
  {
   "cell_type": "code",
   "execution_count": 9,
   "id": "4ff37212",
   "metadata": {},
   "outputs": [
    {
     "name": "stdout",
     "output_type": "stream",
     "text": [
      "(906336, 6)\n"
     ]
    },
    {
     "data": {
      "text/html": [
       "<div>\n",
       "<style scoped>\n",
       "    .dataframe tbody tr th:only-of-type {\n",
       "        vertical-align: middle;\n",
       "    }\n",
       "\n",
       "    .dataframe tbody tr th {\n",
       "        vertical-align: top;\n",
       "    }\n",
       "\n",
       "    .dataframe thead th {\n",
       "        text-align: right;\n",
       "    }\n",
       "</style>\n",
       "<table border=\"1\" class=\"dataframe\">\n",
       "  <thead>\n",
       "    <tr style=\"text-align: right;\">\n",
       "      <th></th>\n",
       "      <th>stay_id</th>\n",
       "      <th>intime</th>\n",
       "      <th>charttime</th>\n",
       "      <th>event</th>\n",
       "      <th>event_value</th>\n",
       "      <th>event_id</th>\n",
       "    </tr>\n",
       "  </thead>\n",
       "  <tbody>\n",
       "    <tr>\n",
       "      <th>0</th>\n",
       "      <td>30000213</td>\n",
       "      <td>2162-06-21 05:38:00</td>\n",
       "      <td>2162-06-22 04:00:00</td>\n",
       "      <td>alt</td>\n",
       "      <td>12.0</td>\n",
       "      <td>1</td>\n",
       "    </tr>\n",
       "    <tr>\n",
       "      <th>1</th>\n",
       "      <td>30000213</td>\n",
       "      <td>2162-06-21 05:38:00</td>\n",
       "      <td>2162-06-22 04:00:00</td>\n",
       "      <td>ast</td>\n",
       "      <td>19.0</td>\n",
       "      <td>2</td>\n",
       "    </tr>\n",
       "    <tr>\n",
       "      <th>2</th>\n",
       "      <td>30000213</td>\n",
       "      <td>2162-06-21 05:38:00</td>\n",
       "      <td>2162-06-21 08:27:00</td>\n",
       "      <td>baseexcess</td>\n",
       "      <td>0.0</td>\n",
       "      <td>3</td>\n",
       "    </tr>\n",
       "    <tr>\n",
       "      <th>3</th>\n",
       "      <td>30000213</td>\n",
       "      <td>2162-06-21 05:38:00</td>\n",
       "      <td>2162-06-21 14:13:00</td>\n",
       "      <td>baseexcess</td>\n",
       "      <td>1.0</td>\n",
       "      <td>3</td>\n",
       "    </tr>\n",
       "    <tr>\n",
       "      <th>4</th>\n",
       "      <td>30000213</td>\n",
       "      <td>2162-06-21 05:38:00</td>\n",
       "      <td>2162-06-21 14:02:00</td>\n",
       "      <td>creatinine</td>\n",
       "      <td>3.7</td>\n",
       "      <td>4</td>\n",
       "    </tr>\n",
       "  </tbody>\n",
       "</table>\n",
       "</div>"
      ],
      "text/plain": [
       "    stay_id              intime           charttime       event  event_value  \\\n",
       "0  30000213 2162-06-21 05:38:00 2162-06-22 04:00:00         alt         12.0   \n",
       "1  30000213 2162-06-21 05:38:00 2162-06-22 04:00:00         ast         19.0   \n",
       "2  30000213 2162-06-21 05:38:00 2162-06-21 08:27:00  baseexcess          0.0   \n",
       "3  30000213 2162-06-21 05:38:00 2162-06-21 14:13:00  baseexcess          1.0   \n",
       "4  30000213 2162-06-21 05:38:00 2162-06-21 14:02:00  creatinine          3.7   \n",
       "\n",
       "   event_id  \n",
       "0         1  \n",
       "1         2  \n",
       "2         3  \n",
       "3         3  \n",
       "4         4  "
      ]
     },
     "execution_count": 9,
     "metadata": {},
     "output_type": "execute_result"
    }
   ],
   "source": [
    "# Convert event type to numeric value\n",
    "df['event_id'] = df.event.astype('category').cat.codes\n",
    "\n",
    "# Sort the dataframe \n",
    "df.sort_values(by=['stay_id', 'event_id', 'charttime'], inplace=True)\n",
    "\n",
    "# Reset index\n",
    "df.reset_index(drop=True, inplace=True)\n",
    "\n",
    "print(df.shape)\n",
    "df.head()"
   ]
  },
  {
   "cell_type": "markdown",
   "id": "34712670",
   "metadata": {},
   "source": [
    "___\n",
    "# Data checks"
   ]
  },
  {
   "cell_type": "code",
   "execution_count": 10,
   "id": "08f54853",
   "metadata": {},
   "outputs": [],
   "source": [
    "# Make sure that intime is always before charttime\n",
    "assert (df.intime <= df.charttime).all()"
   ]
  },
  {
   "cell_type": "code",
   "execution_count": 11,
   "id": "4ec4d592",
   "metadata": {},
   "outputs": [
    {
     "data": {
      "text/plain": [
       "0"
      ]
     },
     "execution_count": 11,
     "metadata": {},
     "output_type": "execute_result"
    }
   ],
   "source": [
    "(df.intime > df.charttime).sum()"
   ]
  },
  {
   "cell_type": "code",
   "execution_count": 12,
   "id": "d47fb852",
   "metadata": {},
   "outputs": [
    {
     "data": {
      "image/png": "[encoded data removed]",
      "text/plain": [
       "<Figure size 432x288 with 1 Axes>"
      ]
     },
     "metadata": {},
     "output_type": "display_data"
    }
   ],
   "source": [
    "(df[df.intime > df.charttime].intime - df[df.intime > df.charttime].charttime).dt.days.hist();\n",
    "plt.xlabel('Difference in days');"
   ]
  },
  {
   "cell_type": "code",
   "execution_count": 13,
   "id": "321ff435",
   "metadata": {},
   "outputs": [],
   "source": [
    "# Exclude events with negative offset\n",
    "df = df[df.intime <= df.charttime]\n",
    "df.reset_index(drop=True, inplace=True)"
   ]
  },
  {
   "cell_type": "code",
   "execution_count": 14,
   "id": "8b82a99f",
   "metadata": {},
   "outputs": [
    {
     "data": {
      "text/html": [
       "<div>\n",
       "<style scoped>\n",
       "    .dataframe tbody tr th:only-of-type {\n",
       "        vertical-align: middle;\n",
       "    }\n",
       "\n",
       "    .dataframe tbody tr th {\n",
       "        vertical-align: top;\n",
       "    }\n",
       "\n",
       "    .dataframe thead th {\n",
       "        text-align: right;\n",
       "    }\n",
       "</style>\n",
       "<table border=\"1\" class=\"dataframe\">\n",
       "  <thead>\n",
       "    <tr style=\"text-align: right;\">\n",
       "      <th></th>\n",
       "      <th>stay_id</th>\n",
       "      <th>intime</th>\n",
       "      <th>charttime</th>\n",
       "      <th>event</th>\n",
       "      <th>event_value</th>\n",
       "      <th>event_id</th>\n",
       "    </tr>\n",
       "  </thead>\n",
       "  <tbody>\n",
       "    <tr>\n",
       "      <th>0</th>\n",
       "      <td>30000213</td>\n",
       "      <td>2162-06-21 05:38:00</td>\n",
       "      <td>2162-06-22 04:00:00</td>\n",
       "      <td>alt</td>\n",
       "      <td>12.0</td>\n",
       "      <td>1</td>\n",
       "    </tr>\n",
       "    <tr>\n",
       "      <th>1</th>\n",
       "      <td>30000213</td>\n",
       "      <td>2162-06-21 05:38:00</td>\n",
       "      <td>2162-06-22 04:00:00</td>\n",
       "      <td>ast</td>\n",
       "      <td>19.0</td>\n",
       "      <td>2</td>\n",
       "    </tr>\n",
       "    <tr>\n",
       "      <th>2</th>\n",
       "      <td>30000213</td>\n",
       "      <td>2162-06-21 05:38:00</td>\n",
       "      <td>2162-06-21 08:27:00</td>\n",
       "      <td>baseexcess</td>\n",
       "      <td>0.0</td>\n",
       "      <td>3</td>\n",
       "    </tr>\n",
       "    <tr>\n",
       "      <th>3</th>\n",
       "      <td>30000213</td>\n",
       "      <td>2162-06-21 05:38:00</td>\n",
       "      <td>2162-06-21 14:13:00</td>\n",
       "      <td>baseexcess</td>\n",
       "      <td>1.0</td>\n",
       "      <td>3</td>\n",
       "    </tr>\n",
       "    <tr>\n",
       "      <th>4</th>\n",
       "      <td>30000213</td>\n",
       "      <td>2162-06-21 05:38:00</td>\n",
       "      <td>2162-06-21 14:02:00</td>\n",
       "      <td>creatinine</td>\n",
       "      <td>3.7</td>\n",
       "      <td>4</td>\n",
       "    </tr>\n",
       "    <tr>\n",
       "      <th>...</th>\n",
       "      <td>...</td>\n",
       "      <td>...</td>\n",
       "      <td>...</td>\n",
       "      <td>...</td>\n",
       "      <td>...</td>\n",
       "      <td>...</td>\n",
       "    </tr>\n",
       "    <tr>\n",
       "      <th>906331</th>\n",
       "      <td>39998622</td>\n",
       "      <td>2135-02-11 18:13:55</td>\n",
       "      <td>2135-02-14 14:00:00</td>\n",
       "      <td>sofa</td>\n",
       "      <td>3.0</td>\n",
       "      <td>10</td>\n",
       "    </tr>\n",
       "    <tr>\n",
       "      <th>906332</th>\n",
       "      <td>39998622</td>\n",
       "      <td>2135-02-11 18:13:55</td>\n",
       "      <td>2135-02-14 15:00:00</td>\n",
       "      <td>sofa</td>\n",
       "      <td>3.0</td>\n",
       "      <td>10</td>\n",
       "    </tr>\n",
       "    <tr>\n",
       "      <th>906333</th>\n",
       "      <td>39998622</td>\n",
       "      <td>2135-02-11 18:13:55</td>\n",
       "      <td>2135-02-14 16:00:00</td>\n",
       "      <td>sofa</td>\n",
       "      <td>3.0</td>\n",
       "      <td>10</td>\n",
       "    </tr>\n",
       "    <tr>\n",
       "      <th>906334</th>\n",
       "      <td>39998622</td>\n",
       "      <td>2135-02-11 18:13:55</td>\n",
       "      <td>2135-02-14 17:00:00</td>\n",
       "      <td>sofa</td>\n",
       "      <td>3.0</td>\n",
       "      <td>10</td>\n",
       "    </tr>\n",
       "    <tr>\n",
       "      <th>906335</th>\n",
       "      <td>39998622</td>\n",
       "      <td>2135-02-11 18:13:55</td>\n",
       "      <td>2135-02-14 18:00:00</td>\n",
       "      <td>sofa</td>\n",
       "      <td>3.0</td>\n",
       "      <td>10</td>\n",
       "    </tr>\n",
       "  </tbody>\n",
       "</table>\n",
       "<p>906336 rows × 6 columns</p>\n",
       "</div>"
      ],
      "text/plain": [
       "         stay_id              intime           charttime       event  \\\n",
       "0       30000213 2162-06-21 05:38:00 2162-06-22 04:00:00         alt   \n",
       "1       30000213 2162-06-21 05:38:00 2162-06-22 04:00:00         ast   \n",
       "2       30000213 2162-06-21 05:38:00 2162-06-21 08:27:00  baseexcess   \n",
       "3       30000213 2162-06-21 05:38:00 2162-06-21 14:13:00  baseexcess   \n",
       "4       30000213 2162-06-21 05:38:00 2162-06-21 14:02:00  creatinine   \n",
       "...          ...                 ...                 ...         ...   \n",
       "906331  39998622 2135-02-11 18:13:55 2135-02-14 14:00:00        sofa   \n",
       "906332  39998622 2135-02-11 18:13:55 2135-02-14 15:00:00        sofa   \n",
       "906333  39998622 2135-02-11 18:13:55 2135-02-14 16:00:00        sofa   \n",
       "906334  39998622 2135-02-11 18:13:55 2135-02-14 17:00:00        sofa   \n",
       "906335  39998622 2135-02-11 18:13:55 2135-02-14 18:00:00        sofa   \n",
       "\n",
       "        event_value  event_id  \n",
       "0              12.0         1  \n",
       "1              19.0         2  \n",
       "2               0.0         3  \n",
       "3               1.0         3  \n",
       "4               3.7         4  \n",
       "...             ...       ...  \n",
       "906331          3.0        10  \n",
       "906332          3.0        10  \n",
       "906333          3.0        10  \n",
       "906334          3.0        10  \n",
       "906335          3.0        10  \n",
       "\n",
       "[906336 rows x 6 columns]"
      ]
     },
     "execution_count": 14,
     "metadata": {},
     "output_type": "execute_result"
    }
   ],
   "source": [
    "df"
   ]
  },
  {
   "cell_type": "code",
   "execution_count": 15,
   "id": "192724d2",
   "metadata": {},
   "outputs": [],
   "source": [
    "# Make sure that there is a single intime for each ICU stay\n",
    "assert (df.groupby('stay_id').intime.nunique() == 1).all()"
   ]
  },
  {
   "cell_type": "markdown",
   "id": "1f0d7366",
   "metadata": {},
   "source": [
    "___\n",
    "# Offset `charttime` by `intime`"
   ]
  },
  {
   "cell_type": "code",
   "execution_count": 16,
   "id": "ca89b869",
   "metadata": {},
   "outputs": [],
   "source": [
    "df['event_time'] = (df.charttime - df.intime).apply(timedelta2hours)"
   ]
  },
  {
   "cell_type": "markdown",
   "id": "735344bb",
   "metadata": {},
   "source": [
    "___\n",
    "# Calculate $\\Delta t$"
   ]
  },
  {
   "cell_type": "code",
   "execution_count": 18,
   "id": "c12b3be9",
   "metadata": {},
   "outputs": [
    {
     "data": {
      "text/plain": [
       "0              NaN\n",
       "1              NaN\n",
       "2              NaN\n",
       "3         5.766667\n",
       "4              NaN\n",
       "            ...   \n",
       "906331    1.000000\n",
       "906332    1.000000\n",
       "906333    1.000000\n",
       "906334    1.000000\n",
       "906335    1.000000\n",
       "Name: delta_t, Length: 906336, dtype: float64"
      ]
     },
     "execution_count": 18,
     "metadata": {},
     "output_type": "execute_result"
    }
   ],
   "source": [
    "# Calculate the time difference between two subsequent tests for each variable\n",
    "df['delta_t'] = df.groupby(['stay_id', 'event_id']).event_time.diff()\n",
    "# df.delta_t = df.delta_t.apply(timedelta2hours)\n",
    "df.delta_t"
   ]
  },
  {
   "cell_type": "code",
   "execution_count": 19,
   "id": "7ff47695",
   "metadata": {},
   "outputs": [],
   "source": [
    "# Calculate the time difference between the ICU admission and the first test for each var\n",
    "def calculate_first_diff(x):\n",
    "    return timedelta2hours(x.charttime)\n",
    "\n",
    "df.loc[df.delta_t.isna(), 'delta_t'] = df[df.delta_t.isna()].event_time    "
   ]
  },
  {
   "cell_type": "code",
   "execution_count": 20,
   "id": "32dc4002",
   "metadata": {},
   "outputs": [
    {
     "data": {
      "text/plain": [
       "0"
      ]
     },
     "execution_count": 20,
     "metadata": {},
     "output_type": "execute_result"
    }
   ],
   "source": [
    "df.delta_t.isna().sum()"
   ]
  },
  {
   "cell_type": "code",
   "execution_count": 21,
   "id": "afc80584",
   "metadata": {},
   "outputs": [
    {
     "data": {
      "text/plain": [
       "0"
      ]
     },
     "execution_count": 21,
     "metadata": {},
     "output_type": "execute_result"
    }
   ],
   "source": [
    "(df.delta_t < 0).sum()"
   ]
  },
  {
   "cell_type": "code",
   "execution_count": 22,
   "id": "5ec859e5",
   "metadata": {},
   "outputs": [
    {
     "data": {
      "image/png": "[encoded data removed]",
      "text/plain": [
       "<Figure size 432x288 with 1 Axes>"
      ]
     },
     "metadata": {},
     "output_type": "display_data"
    }
   ],
   "source": [
    "df.delta_t.hist(bins=50);"
   ]
  },
  {
   "cell_type": "code",
   "execution_count": 24,
   "id": "cbce2a7a",
   "metadata": {},
   "outputs": [],
   "source": [
    "df.to_csv(\"../data/dataset_datathon_21_cleaned.csv\", index=False)"
   ]
  },
  {
   "cell_type": "markdown",
   "id": "5ff767fb",
   "metadata": {},
   "source": [
    "___\n",
    "# Splitting data into K folds"
   ]
  },
  {
   "cell_type": "code",
   "execution_count": null,
   "id": "26655338",
   "metadata": {},
   "outputs": [],
   "source": [
    "from sklearn.model_selection import train_test_split, KFold\n",
    "\n",
    "cv = KFold(n_splits=5)\n",
    "\n",
    "for train, test in cv.split(df.stay_id.unique()):\n",
    "    print(train.shape, test.shape)\n",
    "\n",
    "\n",
    "\n",
    "train_id, test_id = train_test_split(df.stay_id.unique())\n",
    "train_id.shape, test_id.shape"
   ]
  },
  {
   "cell_type": "markdown",
   "id": "5890ab48",
   "metadata": {},
   "source": [
    "___\n",
    "# Convert to GRU format\n",
    "For each stay_id we create a table with itemid.nunique() rows and"
   ]
  },
  {
   "cell_type": "code",
   "execution_count": null,
   "id": "e0d7d2de",
   "metadata": {},
   "outputs": [],
   "source": [
    "df[df.stay_id==30000213]"
   ]
  },
  {
   "cell_type": "code",
   "execution_count": null,
   "id": "2abd2c5f",
   "metadata": {},
   "outputs": [],
   "source": []
  }
 ],
 "metadata": {
  "kernelspec": {
   "display_name": "Python 3 (ipykernel)",
   "language": "python",
   "name": "python3"
  },
  "language_info": {
   "codemirror_mode": {
    "name": "ipython",
    "version": 3
   },
   "file_extension": ".py",
   "mimetype": "text/x-python",
   "name": "python",
   "nbconvert_exporter": "python",
   "pygments_lexer": "ipython3",
   "version": "3.8.10"
  }
 },
 "nbformat": 4,
 "nbformat_minor": 5
}
