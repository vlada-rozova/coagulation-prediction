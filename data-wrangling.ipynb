{
 "cells": [
  {
   "cell_type": "code",
   "execution_count": 3,
   "id": "0d3ec4d8",
   "metadata": {},
   "outputs": [],
   "source": [
    "import numpy as np\n",
    "import pandas as pd"
   ]
  },
  {
   "cell_type": "code",
   "execution_count": 5,
   "id": "ba822d10",
   "metadata": {},
   "outputs": [],
   "source": [
    "results = pd.read_csv('../data/dummy_results.csv')\n",
    "adm = pd.read_csv('../data/dummy_admissions.csv')"
   ]
  },
  {
   "cell_type": "code",
   "execution_count": 6,
   "id": "a2eea7cd",
   "metadata": {},
   "outputs": [
    {
     "data": {
      "text/html": [
       "<div>\n",
       "<style scoped>\n",
       "    .dataframe tbody tr th:only-of-type {\n",
       "        vertical-align: middle;\n",
       "    }\n",
       "\n",
       "    .dataframe tbody tr th {\n",
       "        vertical-align: top;\n",
       "    }\n",
       "\n",
       "    .dataframe thead th {\n",
       "        text-align: right;\n",
       "    }\n",
       "</style>\n",
       "<table border=\"1\" class=\"dataframe\">\n",
       "  <thead>\n",
       "    <tr style=\"text-align: right;\">\n",
       "      <th></th>\n",
       "      <th>stay_id</th>\n",
       "      <th>value</th>\n",
       "      <th>itemid</th>\n",
       "      <th>charttime</th>\n",
       "    </tr>\n",
       "  </thead>\n",
       "  <tbody>\n",
       "    <tr>\n",
       "      <th>0</th>\n",
       "      <td>155</td>\n",
       "      <td>69.394981</td>\n",
       "      <td>2</td>\n",
       "      <td>2015-07-27 01:05:22</td>\n",
       "    </tr>\n",
       "    <tr>\n",
       "      <th>1</th>\n",
       "      <td>187</td>\n",
       "      <td>35.076911</td>\n",
       "      <td>4</td>\n",
       "      <td>2017-04-25 23:06:27</td>\n",
       "    </tr>\n",
       "    <tr>\n",
       "      <th>2</th>\n",
       "      <td>168</td>\n",
       "      <td>88.338128</td>\n",
       "      <td>4</td>\n",
       "      <td>2017-04-07 00:43:58</td>\n",
       "    </tr>\n",
       "    <tr>\n",
       "      <th>3</th>\n",
       "      <td>151</td>\n",
       "      <td>34.331397</td>\n",
       "      <td>4</td>\n",
       "      <td>2017-08-11 10:57:36</td>\n",
       "    </tr>\n",
       "    <tr>\n",
       "      <th>4</th>\n",
       "      <td>125</td>\n",
       "      <td>34.096140</td>\n",
       "      <td>4</td>\n",
       "      <td>2017-06-08 05:43:35</td>\n",
       "    </tr>\n",
       "  </tbody>\n",
       "</table>\n",
       "</div>"
      ],
      "text/plain": [
       "   stay_id      value  itemid            charttime\n",
       "0      155  69.394981       2  2015-07-27 01:05:22\n",
       "1      187  35.076911       4  2017-04-25 23:06:27\n",
       "2      168  88.338128       4  2017-04-07 00:43:58\n",
       "3      151  34.331397       4  2017-08-11 10:57:36\n",
       "4      125  34.096140       4  2017-06-08 05:43:35"
      ]
     },
     "execution_count": 6,
     "metadata": {},
     "output_type": "execute_result"
    }
   ],
   "source": [
    "results.head()"
   ]
  },
  {
   "cell_type": "code",
   "execution_count": 7,
   "id": "c2eb8cfe",
   "metadata": {},
   "outputs": [
    {
     "data": {
      "text/html": [
       "<div>\n",
       "<style scoped>\n",
       "    .dataframe tbody tr th:only-of-type {\n",
       "        vertical-align: middle;\n",
       "    }\n",
       "\n",
       "    .dataframe tbody tr th {\n",
       "        vertical-align: top;\n",
       "    }\n",
       "\n",
       "    .dataframe thead th {\n",
       "        text-align: right;\n",
       "    }\n",
       "</style>\n",
       "<table border=\"1\" class=\"dataframe\">\n",
       "  <thead>\n",
       "    <tr style=\"text-align: right;\">\n",
       "      <th></th>\n",
       "      <th>stay_id</th>\n",
       "      <th>intime</th>\n",
       "    </tr>\n",
       "  </thead>\n",
       "  <tbody>\n",
       "    <tr>\n",
       "      <th>0</th>\n",
       "      <td>155</td>\n",
       "      <td>2015-06-14 05:11:33</td>\n",
       "    </tr>\n",
       "    <tr>\n",
       "      <th>1</th>\n",
       "      <td>187</td>\n",
       "      <td>2017-06-04 15:17:01</td>\n",
       "    </tr>\n",
       "    <tr>\n",
       "      <th>2</th>\n",
       "      <td>168</td>\n",
       "      <td>2017-12-29 05:29:57</td>\n",
       "    </tr>\n",
       "    <tr>\n",
       "      <th>3</th>\n",
       "      <td>151</td>\n",
       "      <td>2016-05-30 18:43:54</td>\n",
       "    </tr>\n",
       "    <tr>\n",
       "      <th>4</th>\n",
       "      <td>125</td>\n",
       "      <td>2016-01-11 16:41:37</td>\n",
       "    </tr>\n",
       "  </tbody>\n",
       "</table>\n",
       "</div>"
      ],
      "text/plain": [
       "   stay_id               intime\n",
       "0      155  2015-06-14 05:11:33\n",
       "1      187  2017-06-04 15:17:01\n",
       "2      168  2017-12-29 05:29:57\n",
       "3      151  2016-05-30 18:43:54\n",
       "4      125  2016-01-11 16:41:37"
      ]
     },
     "execution_count": 7,
     "metadata": {},
     "output_type": "execute_result"
    }
   ],
   "source": [
    "adm.head()"
   ]
  },
  {
   "cell_type": "markdown",
   "id": "05502555",
   "metadata": {},
   "source": [
    "# Calculate $\\Delta t$\n",
    "### Calculate the time difference between two subsequent tests for each variable"
   ]
  },
  {
   "cell_type": "code",
   "execution_count": 86,
   "id": "a1a69b4c",
   "metadata": {},
   "outputs": [
    {
     "data": {
      "text/html": [
       "<div>\n",
       "<style scoped>\n",
       "    .dataframe tbody tr th:only-of-type {\n",
       "        vertical-align: middle;\n",
       "    }\n",
       "\n",
       "    .dataframe tbody tr th {\n",
       "        vertical-align: top;\n",
       "    }\n",
       "\n",
       "    .dataframe thead th {\n",
       "        text-align: right;\n",
       "    }\n",
       "</style>\n",
       "<table border=\"1\" class=\"dataframe\">\n",
       "  <thead>\n",
       "    <tr style=\"text-align: right;\">\n",
       "      <th></th>\n",
       "      <th>stay_id</th>\n",
       "      <th>value</th>\n",
       "      <th>itemid</th>\n",
       "      <th>charttime</th>\n",
       "    </tr>\n",
       "  </thead>\n",
       "  <tbody>\n",
       "    <tr>\n",
       "      <th>5</th>\n",
       "      <td>102</td>\n",
       "      <td>21.398330</td>\n",
       "      <td>5</td>\n",
       "      <td>2016-11-19 23:53:52</td>\n",
       "    </tr>\n",
       "    <tr>\n",
       "      <th>31</th>\n",
       "      <td>102</td>\n",
       "      <td>79.965600</td>\n",
       "      <td>5</td>\n",
       "      <td>2017-09-16 19:43:46</td>\n",
       "    </tr>\n",
       "    <tr>\n",
       "      <th>32</th>\n",
       "      <td>102</td>\n",
       "      <td>24.614858</td>\n",
       "      <td>4</td>\n",
       "      <td>2017-06-09 05:13:25</td>\n",
       "    </tr>\n",
       "    <tr>\n",
       "      <th>135</th>\n",
       "      <td>102</td>\n",
       "      <td>34.314561</td>\n",
       "      <td>1</td>\n",
       "      <td>2017-08-26 11:48:59</td>\n",
       "    </tr>\n",
       "    <tr>\n",
       "      <th>218</th>\n",
       "      <td>102</td>\n",
       "      <td>24.583962</td>\n",
       "      <td>0</td>\n",
       "      <td>2016-12-26 18:24:33</td>\n",
       "    </tr>\n",
       "    <tr>\n",
       "      <th>351</th>\n",
       "      <td>102</td>\n",
       "      <td>4.325022</td>\n",
       "      <td>1</td>\n",
       "      <td>2017-03-24 09:21:17</td>\n",
       "    </tr>\n",
       "    <tr>\n",
       "      <th>405</th>\n",
       "      <td>102</td>\n",
       "      <td>86.380554</td>\n",
       "      <td>1</td>\n",
       "      <td>2015-04-12 12:04:05</td>\n",
       "    </tr>\n",
       "    <tr>\n",
       "      <th>467</th>\n",
       "      <td>102</td>\n",
       "      <td>16.159906</td>\n",
       "      <td>5</td>\n",
       "      <td>2017-10-01 07:14:35</td>\n",
       "    </tr>\n",
       "  </tbody>\n",
       "</table>\n",
       "</div>"
      ],
      "text/plain": [
       "     stay_id      value  itemid           charttime\n",
       "5        102  21.398330       5 2016-11-19 23:53:52\n",
       "31       102  79.965600       5 2017-09-16 19:43:46\n",
       "32       102  24.614858       4 2017-06-09 05:13:25\n",
       "135      102  34.314561       1 2017-08-26 11:48:59\n",
       "218      102  24.583962       0 2016-12-26 18:24:33\n",
       "351      102   4.325022       1 2017-03-24 09:21:17\n",
       "405      102  86.380554       1 2015-04-12 12:04:05\n",
       "467      102  16.159906       5 2017-10-01 07:14:35"
      ]
     },
     "execution_count": 86,
     "metadata": {},
     "output_type": "execute_result"
    }
   ],
   "source": [
    "results[results.stay_id==102]"
   ]
  },
  {
   "cell_type": "code",
   "execution_count": 87,
   "id": "77873ced",
   "metadata": {},
   "outputs": [
    {
     "data": {
      "text/plain": [
       "0                     NaT\n",
       "1                     NaT\n",
       "2                     NaT\n",
       "3                     NaT\n",
       "4                     NaT\n",
       "              ...        \n",
       "495                   NaT\n",
       "496   -237 days +21:22:28\n",
       "497                   NaT\n",
       "498   -671 days +04:20:29\n",
       "499                   NaT\n",
       "Name: charttime, Length: 500, dtype: timedelta64[ns]"
      ]
     },
     "execution_count": 87,
     "metadata": {},
     "output_type": "execute_result"
    }
   ],
   "source": [
    "results.groupby(['stay_id', 'itemid']).charttime.diff()"
   ]
  },
  {
   "cell_type": "markdown",
   "id": "bf32c72f",
   "metadata": {},
   "source": [
    "### Calculate the time difference between the ICU admission and the first test for each var"
   ]
  },
  {
   "cell_type": "code",
   "execution_count": null,
   "id": "f14be5e4",
   "metadata": {},
   "outputs": [],
   "source": []
  },
  {
   "cell_type": "code",
   "execution_count": null,
   "id": "4c8583fd",
   "metadata": {},
   "outputs": [],
   "source": [
    "___\n",
    "# Calculate $\\Delta t$\n",
    "### Calculate the time difference between two subsequent tests for each variable\n",
    "\n",
    "results[results.stay_id==102]\n",
    "\n",
    "results.groupby(['stay_id', 'itemid']).charttime.diff()\n",
    "\n",
    "### Calculate the time difference between the ICU admission and the first test for each var\n",
    "\n"
   ]
  }
 ],
 "metadata": {
  "kernelspec": {
   "display_name": "Python 3 (ipykernel)",
   "language": "python",
   "name": "python3"
  },
  "language_info": {
   "codemirror_mode": {
    "name": "ipython",
    "version": 3
   },
   "file_extension": ".py",
   "mimetype": "text/x-python",
   "name": "python",
   "nbconvert_exporter": "python",
   "pygments_lexer": "ipython3",
   "version": "3.8.10"
  }
 },
 "nbformat": 4,
 "nbformat_minor": 5
}
